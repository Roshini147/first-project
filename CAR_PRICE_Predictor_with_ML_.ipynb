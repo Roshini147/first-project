{
  "nbformat": 4,
  "nbformat_minor": 0,
  "metadata": {
    "colab": {
      "provenance": [],
      "authorship_tag": "ABX9TyPiMdpcNF74KjjmcgeB5vOq",
      "include_colab_link": true
    },
    "kernelspec": {
      "name": "python3",
      "display_name": "Python 3"
    },
    "language_info": {
      "name": "python"
    }
  },
  "cells": [
    {
      "cell_type": "markdown",
      "metadata": {
        "id": "view-in-github",
        "colab_type": "text"
      },
      "source": [
        "<a href=\"https://colab.research.google.com/github/Roshini147/first-project/blob/main/CAR_PRICE_Predictor_with_ML_.ipynb\" target=\"_parent\"><img src=\"https://colab.research.google.com/assets/colab-badge.svg\" alt=\"Open In Colab\"/></a>"
      ]
    },
    {
      "cell_type": "code",
      "source": [
        "import pandas as pd\n",
        "import numpy as np\n",
        "from sklearn.model_selection import train_test_split\n",
        "from sklearn.linear_model import LinearRegression\n",
        "from sklearn.preprocessing import LabelEncoder\n",
        "from sklearn.metrics import mean_squared_error, r2_score\n",
        "\n",
        "\n",
        "data = {\n",
        "    \"name\": [\n",
        "        \"Hyundai Santro Xing XO eRLX Euro III\", \"Mahindra Jeep CL550 MDI\", \"Maruti Suzuki Alto 800 Vxi\",\n",
        "        \"Hyundai Grand i10 Magna 1.2 Kappa VTVT\", \"Ford EcoSport Titanium 1.5L TDCi\", \"Ford EcoSport Titanium 1.5L TDCi\",\n",
        "        \"Ford Figo\", \"Hyundai Eon\", \"Ford EcoSport Ambiente 1.5L TDCi\", \"Maruti Suzuki Alto K10 VXi AMT\",\n",
        "        \"Skoda Fabia Classic 1.2 MPI\", \"Maruti Suzuki Stingray VXi\", \"Hyundai Elite i20 Magna 1.2\",\n",
        "        \"Mahindra Scorpio SLE BS IV\", \"Hyundai Santro Xing XO eRLX Euro III\", \"Mahindra Jeep CL550 MDI\",\n",
        "        \"Audi A8\", \"Audi Q7\", \"Mahindra Scorpio S10\", \"Maruti Suzuki Alto 800\", \"Mahindra Scorpio S10\",\n",
        "        \"Mahindra Scorpio S10\", \"Maruti Suzuki Alto 800 Vxi\", \"Hyundai i20 Sportz 1.2\",\n",
        "        \"Hyundai i20 Sportz 1.2\", \"Hyundai i20 Sportz 1.2\", \"Maruti Suzuki Alto 800 Lx\",\n",
        "        \"Maruti Suzuki Vitara Brezza ZDi\", \"Maruti Suzuki Alto LX\"\n",
        "    ],\n",
        "    \"company\": [\n",
        "        \"Hyundai\", \"Mahindra\", \"Maruti\", \"Hyundai\", \"Ford\", \"Ford\", \"Ford\", \"Hyundai\", \"Ford\", \"Maruti\",\n",
        "        \"Skoda\", \"Maruti\", \"Hyundai\", \"Mahindra\", \"Hyundai\", \"Mahindra\", \"Audi\", \"Audi\", \"Mahindra\",\n",
        "        \"Maruti\", \"Mahindra\", \"Mahindra\", \"Maruti\", \"Hyundai\", \"Hyundai\", \"Hyundai\", \"Maruti\", \"Maruti\", \"Maruti\"\n",
        "    ],\n",
        "    \"year\": [\n",
        "        2007, 2006, 2018, 2014, 2014, 2015, 2012, 2013, 2016, 2015,\n",
        "        2010, 2015, 2014, 2015, 2007, 2006, 2017, 2014, 2016, 2014,\n",
        "        2016, 2016, 2015, 2012, 2012, 2012, 2017, 2016, 2008\n",
        "    ],\n",
        "    \"Price\": [\n",
        "        \"80000\", \"425000\", \"Ask For Price\", \"325000\", \"575000\", \"Ask For Price\", \"175000\", \"190000\", \"830000\", \"250000\",\n",
        "        \"182000\", \"315000\", \"415000\", \"320000\", \"80000\", \"425000\", \"1000000\", \"500000\", \"350000\", \"160000\",\n",
        "        \"350000\", \"310000\", \"75000\", \"100000\", \"100000\", \"100000\", \"190000\", \"290000\", \"95000\"\n",
        "    ],\n",
        "    \"kms_driven\": [\n",
        "        \"45000 kms\", \"40 kms\", \"22000 kms\", \"28000 kms\", \"36000 kms\", \"59000 kms\", \"41000 kms\", \"25000 kms\",\n",
        "        \"24530 kms\", \"60000 kms\", \"60000 kms\", \"30000 kms\", \"32000 kms\", \"48660 kms\", \"45000 kms\", \"40 kms\",\n",
        "        \"4000 kms\", \"16934 kms\", \"43000 kms\", \"35550 kms\", \"43000 kms\", \"39522 kms\", \"39000 kms\", \"55000 kms\",\n",
        "        \"55000 kms\", \"55000 kms\", \"72000 kms\", \"15975 kms\", \"70000 kms\"\n",
        "    ],\n",
        "    \"fuel_type\": [\n",
        "        \"Petrol\", \"Diesel\", \"Petrol\", \"Petrol\", \"Diesel\", \"Diesel\", \"Diesel\", \"Petrol\", \"Diesel\", \"Petrol\",\n",
        "        \"Petrol\", \"Petrol\", \"Petrol\", \"Diesel\", \"Petrol\", \"Diesel\", \"Petrol\", \"Diesel\", \"Diesel\", \"Petrol\",\n",
        "        \"Diesel\", \"Diesel\", \"Petrol\", \"Petrol\", \"Petrol\", \"Petrol\", \"Petrol\", \"Diesel\", \"Petrol\"\n",
        "    ]\n",
        "}\n",
        "\n",
        "\n",
        "df = pd.DataFrame(data)\n",
        "\n",
        "\n",
        "df = df[df[\"Price\"] != \"Ask For Price\"]\n",
        "df[\"Price\"] = df[\"Price\"].str.replace(\",\", \"\").astype(int)\n",
        "df[\"kms_driven\"] = df[\"kms_driven\"].str.replace(\" kms\", \"\").str.replace(\",\", \"\").astype(int)\n",
        "\n",
        "\n",
        "le_company = LabelEncoder()\n",
        "le_fuel = LabelEncoder()\n",
        "\n",
        "df[\"company\"] = le_company.fit_transform(df[\"company\"])\n",
        "df[\"fuel_type\"] = le_fuel.fit_transform(df[\"fuel_type\"])\n",
        "\n",
        "\n",
        "X = df[[\"year\", \"kms_driven\", \"company\", \"fuel_type\"]]\n",
        "y = df[\"Price\"]\n",
        "\n",
        "\n",
        "X_train, X_test, y_train, y_test = train_test_split(X, y, test_size=0.2, random_state=42)\n",
        "\n",
        "model = LinearRegression()\n",
        "model.fit(X_train, y_train)\n",
        "\n",
        "y_pred = model.predict(X_test)\n",
        "print(\"R2 Score:\", r2_score(y_test, y_pred))\n",
        "print(\"RMSE:\", np.sqrt(mean_squared_error(y_test, y_pred)))\n",
        "\n",
        "\n",
        "sample_input = pd.DataFrame([[2016, 30000, le_company.transform([\"Hyundai\"])[0], le_fuel.transform([\"Petrol\"])[0]]],\n",
        "                            columns=[\"year\", \"kms_driven\", \"company\", \"fuel_type\"])\n",
        "predicted_price = model.predict(sample_input)\n",
        "print(f\"Predicted Price for Sample Input: ₹{int(predicted_price[0])}\")\n"
      ],
      "metadata": {
        "colab": {
          "base_uri": "https://localhost:8080/"
        },
        "id": "yuR0RjPtXbvx",
        "outputId": "98e2ee7e-eb6a-46cc-b77c-d8c88dbf75ca"
      },
      "execution_count": null,
      "outputs": [
        {
          "output_type": "stream",
          "name": "stdout",
          "text": [
            "R2 Score: -0.19132230000940398\n",
            "RMSE: 137167.59891272374\n",
            "Predicted Price for Sample Input: ₹445368\n"
          ]
        }
      ]
    }
  ]
}